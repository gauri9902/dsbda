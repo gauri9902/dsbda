{
 "cells": [
  {
   "cell_type": "code",
   "execution_count": 1,
   "id": "3d8a08ed",
   "metadata": {},
   "outputs": [],
   "source": [
    "import numpy as np\n",
    "import pandas as pd\n",
    "import math"
   ]
  },
  {
   "cell_type": "code",
   "execution_count": 2,
   "id": "05f03af2",
   "metadata": {},
   "outputs": [],
   "source": [
    "df=pd.read_csv('exams.csv')"
   ]
  },
  {
   "cell_type": "code",
   "execution_count": 3,
   "id": "42cd4643",
   "metadata": {},
   "outputs": [
    {
     "data": {
      "text/html": [
       "<div>\n",
       "<style scoped>\n",
       "    .dataframe tbody tr th:only-of-type {\n",
       "        vertical-align: middle;\n",
       "    }\n",
       "\n",
       "    .dataframe tbody tr th {\n",
       "        vertical-align: top;\n",
       "    }\n",
       "\n",
       "    .dataframe thead th {\n",
       "        text-align: right;\n",
       "    }\n",
       "</style>\n",
       "<table border=\"1\" class=\"dataframe\">\n",
       "  <thead>\n",
       "    <tr style=\"text-align: right;\">\n",
       "      <th></th>\n",
       "      <th>gender</th>\n",
       "      <th>race/ethnicity</th>\n",
       "      <th>parental level of education</th>\n",
       "      <th>lunch</th>\n",
       "      <th>test preparation course</th>\n",
       "      <th>math score</th>\n",
       "      <th>reading score</th>\n",
       "      <th>writing score</th>\n",
       "    </tr>\n",
       "  </thead>\n",
       "  <tbody>\n",
       "    <tr>\n",
       "      <th>0</th>\n",
       "      <td>female</td>\n",
       "      <td>group D</td>\n",
       "      <td>some college</td>\n",
       "      <td>standard</td>\n",
       "      <td>completed</td>\n",
       "      <td>59</td>\n",
       "      <td>70</td>\n",
       "      <td>78</td>\n",
       "    </tr>\n",
       "    <tr>\n",
       "      <th>1</th>\n",
       "      <td>male</td>\n",
       "      <td>group D</td>\n",
       "      <td>associate's degree</td>\n",
       "      <td>standard</td>\n",
       "      <td>none</td>\n",
       "      <td>96</td>\n",
       "      <td>93</td>\n",
       "      <td>87</td>\n",
       "    </tr>\n",
       "    <tr>\n",
       "      <th>2</th>\n",
       "      <td>female</td>\n",
       "      <td>group D</td>\n",
       "      <td>some college</td>\n",
       "      <td>free/reduced</td>\n",
       "      <td>none</td>\n",
       "      <td>57</td>\n",
       "      <td>76</td>\n",
       "      <td>77</td>\n",
       "    </tr>\n",
       "    <tr>\n",
       "      <th>3</th>\n",
       "      <td>male</td>\n",
       "      <td>group B</td>\n",
       "      <td>some college</td>\n",
       "      <td>free/reduced</td>\n",
       "      <td>none</td>\n",
       "      <td>70</td>\n",
       "      <td>70</td>\n",
       "      <td>63</td>\n",
       "    </tr>\n",
       "    <tr>\n",
       "      <th>4</th>\n",
       "      <td>female</td>\n",
       "      <td>group D</td>\n",
       "      <td>associate's degree</td>\n",
       "      <td>standard</td>\n",
       "      <td>none</td>\n",
       "      <td>83</td>\n",
       "      <td>85</td>\n",
       "      <td>86</td>\n",
       "    </tr>\n",
       "    <tr>\n",
       "      <th>...</th>\n",
       "      <td>...</td>\n",
       "      <td>...</td>\n",
       "      <td>...</td>\n",
       "      <td>...</td>\n",
       "      <td>...</td>\n",
       "      <td>...</td>\n",
       "      <td>...</td>\n",
       "      <td>...</td>\n",
       "    </tr>\n",
       "    <tr>\n",
       "      <th>995</th>\n",
       "      <td>male</td>\n",
       "      <td>group C</td>\n",
       "      <td>some college</td>\n",
       "      <td>standard</td>\n",
       "      <td>none</td>\n",
       "      <td>77</td>\n",
       "      <td>77</td>\n",
       "      <td>71</td>\n",
       "    </tr>\n",
       "    <tr>\n",
       "      <th>996</th>\n",
       "      <td>male</td>\n",
       "      <td>group C</td>\n",
       "      <td>some college</td>\n",
       "      <td>standard</td>\n",
       "      <td>none</td>\n",
       "      <td>80</td>\n",
       "      <td>66</td>\n",
       "      <td>66</td>\n",
       "    </tr>\n",
       "    <tr>\n",
       "      <th>997</th>\n",
       "      <td>female</td>\n",
       "      <td>group A</td>\n",
       "      <td>high school</td>\n",
       "      <td>standard</td>\n",
       "      <td>completed</td>\n",
       "      <td>67</td>\n",
       "      <td>86</td>\n",
       "      <td>86</td>\n",
       "    </tr>\n",
       "    <tr>\n",
       "      <th>998</th>\n",
       "      <td>male</td>\n",
       "      <td>group E</td>\n",
       "      <td>high school</td>\n",
       "      <td>standard</td>\n",
       "      <td>none</td>\n",
       "      <td>80</td>\n",
       "      <td>72</td>\n",
       "      <td>62</td>\n",
       "    </tr>\n",
       "    <tr>\n",
       "      <th>999</th>\n",
       "      <td>male</td>\n",
       "      <td>group D</td>\n",
       "      <td>high school</td>\n",
       "      <td>standard</td>\n",
       "      <td>none</td>\n",
       "      <td>58</td>\n",
       "      <td>47</td>\n",
       "      <td>45</td>\n",
       "    </tr>\n",
       "  </tbody>\n",
       "</table>\n",
       "<p>1000 rows × 8 columns</p>\n",
       "</div>"
      ],
      "text/plain": [
       "     gender race/ethnicity parental level of education         lunch  \\\n",
       "0    female        group D                some college      standard   \n",
       "1      male        group D          associate's degree      standard   \n",
       "2    female        group D                some college  free/reduced   \n",
       "3      male        group B                some college  free/reduced   \n",
       "4    female        group D          associate's degree      standard   \n",
       "..      ...            ...                         ...           ...   \n",
       "995    male        group C                some college      standard   \n",
       "996    male        group C                some college      standard   \n",
       "997  female        group A                 high school      standard   \n",
       "998    male        group E                 high school      standard   \n",
       "999    male        group D                 high school      standard   \n",
       "\n",
       "    test preparation course  math score  reading score  writing score  \n",
       "0                 completed          59             70             78  \n",
       "1                      none          96             93             87  \n",
       "2                      none          57             76             77  \n",
       "3                      none          70             70             63  \n",
       "4                      none          83             85             86  \n",
       "..                      ...         ...            ...            ...  \n",
       "995                    none          77             77             71  \n",
       "996                    none          80             66             66  \n",
       "997               completed          67             86             86  \n",
       "998                    none          80             72             62  \n",
       "999                    none          58             47             45  \n",
       "\n",
       "[1000 rows x 8 columns]"
      ]
     },
     "execution_count": 3,
     "metadata": {},
     "output_type": "execute_result"
    }
   ],
   "source": [
    "df"
   ]
  },
  {
   "cell_type": "code",
   "execution_count": 4,
   "id": "cd8b040a",
   "metadata": {},
   "outputs": [],
   "source": [
    "s_values=df['math score'].sum()"
   ]
  },
  {
   "cell_type": "code",
   "execution_count": 5,
   "id": "e202f69b",
   "metadata": {},
   "outputs": [],
   "source": [
    "c_values=df['math score'].count()"
   ]
  },
  {
   "cell_type": "code",
   "execution_count": 8,
   "id": "cf438c48",
   "metadata": {},
   "outputs": [],
   "source": [
    "mean=s_values/c_values"
   ]
  },
  {
   "cell_type": "code",
   "execution_count": 9,
   "id": "fd5a8906",
   "metadata": {},
   "outputs": [
    {
     "name": "stdout",
     "output_type": "stream",
     "text": [
      "67.81\n"
     ]
    }
   ],
   "source": [
    "print(mean)"
   ]
  },
  {
   "cell_type": "code",
   "execution_count": 10,
   "id": "489be909",
   "metadata": {},
   "outputs": [
    {
     "data": {
      "text/plain": [
       "array([ 15,  20,  21,  23,  24,  25,  27,  28,  28,  30,  30,  31,  31,\n",
       "        32,  33,  33,  34,  34,  34,  34,  35,  35,  35,  35,  36,  36,\n",
       "        36,  37,  37,  37,  37,  38,  38,  38,  38,  39,  39,  39,  39,\n",
       "        39,  39,  40,  40,  41,  41,  41,  41,  41,  41,  41,  42,  42,\n",
       "        42,  42,  42,  43,  43,  43,  43,  43,  43,  43,  44,  44,  44,\n",
       "        44,  44,  44,  44,  44,  44,  44,  44,  44,  44,  45,  45,  45,\n",
       "        45,  45,  45,  45,  45,  45,  45,  45,  46,  46,  46,  46,  46,\n",
       "        46,  46,  46,  47,  47,  47,  47,  47,  47,  47,  47,  47,  47,\n",
       "        48,  48,  48,  48,  48,  48,  48,  49,  49,  49,  49,  49,  49,\n",
       "        49,  49,  49,  49,  50,  50,  50,  50,  50,  50,  50,  50,  50,\n",
       "        50,  51,  51,  51,  51,  51,  51,  51,  51,  51,  51,  51,  51,\n",
       "        51,  51,  52,  52,  52,  52,  52,  52,  52,  52,  52,  52,  52,\n",
       "        52,  53,  53,  53,  53,  53,  53,  53,  53,  54,  54,  54,  54,\n",
       "        54,  54,  54,  54,  54,  54,  54,  54,  54,  54,  54,  55,  55,\n",
       "        55,  55,  55,  55,  55,  55,  55,  55,  55,  55,  55,  55,  55,\n",
       "        55,  55,  55,  56,  56,  56,  56,  56,  56,  56,  56,  56,  56,\n",
       "        56,  56,  56,  56,  56,  56,  56,  56,  56,  57,  57,  57,  57,\n",
       "        57,  57,  57,  57,  57,  57,  57,  57,  57,  57,  57,  57,  57,\n",
       "        57,  58,  58,  58,  58,  58,  58,  58,  58,  58,  58,  58,  58,\n",
       "        58,  58,  58,  58,  58,  58,  58,  58,  58,  59,  59,  59,  59,\n",
       "        59,  59,  59,  59,  59,  59,  59,  59,  59,  59,  59,  59,  59,\n",
       "        59,  59,  59,  59,  59,  59,  59,  59,  59,  59,  59,  59,  60,\n",
       "        60,  60,  60,  60,  60,  60,  60,  60,  60,  60,  60,  60,  60,\n",
       "        60,  60,  60,  60,  60,  61,  61,  61,  61,  61,  61,  61,  61,\n",
       "        61,  61,  61,  61,  61,  61,  61,  61,  61,  61,  61,  61,  61,\n",
       "        61,  61,  61,  61,  61,  62,  62,  62,  62,  62,  62,  62,  62,\n",
       "        62,  62,  62,  62,  62,  62,  62,  62,  62,  62,  62,  62,  62,\n",
       "        62,  62,  62,  62,  62,  62,  62,  62,  62,  62,  62,  63,  63,\n",
       "        63,  63,  63,  63,  63,  63,  63,  63,  63,  63,  63,  63,  63,\n",
       "        63,  63,  63,  63,  63,  63,  64,  64,  64,  64,  64,  64,  64,\n",
       "        64,  64,  64,  64,  64,  64,  64,  64,  64,  64,  64,  64,  64,\n",
       "        64,  64,  64,  64,  64,  65,  65,  65,  65,  65,  65,  65,  65,\n",
       "        65,  65,  65,  65,  65,  65,  65,  65,  65,  65,  65,  65,  65,\n",
       "        65,  65,  65,  65,  65,  66,  66,  66,  66,  66,  66,  66,  66,\n",
       "        66,  66,  66,  66,  66,  66,  66,  66,  66,  66,  66,  66,  66,\n",
       "        67,  67,  67,  67,  67,  67,  67,  67,  67,  67,  67,  67,  67,\n",
       "        67,  67,  67,  67,  67,  67,  67,  67,  67,  67,  67,  67,  67,\n",
       "        67,  67,  67,  68,  68,  68,  68,  68,  68,  68,  68,  68,  68,\n",
       "        68,  68,  68,  68,  68,  68,  68,  68,  68,  68,  68,  68,  68,\n",
       "        68,  68,  68,  68,  68,  69,  69,  69,  69,  69,  69,  69,  69,\n",
       "        69,  69,  69,  69,  69,  69,  69,  69,  69,  69,  69,  69,  69,\n",
       "        69,  69,  69,  70,  70,  70,  70,  70,  70,  70,  70,  70,  70,\n",
       "        70,  70,  70,  70,  70,  70,  70,  70,  70,  70,  70,  70,  70,\n",
       "        71,  71,  71,  71,  71,  71,  71,  71,  71,  71,  71,  71,  71,\n",
       "        71,  71,  71,  71,  71,  71,  71,  71,  72,  72,  72,  72,  72,\n",
       "        72,  72,  72,  72,  72,  72,  72,  72,  72,  72,  72,  72,  72,\n",
       "        72,  72,  72,  72,  72,  73,  73,  73,  73,  73,  73,  73,  73,\n",
       "        73,  73,  73,  73,  73,  73,  73,  73,  73,  73,  73,  73,  73,\n",
       "        73,  74,  74,  74,  74,  74,  74,  74,  74,  74,  74,  74,  74,\n",
       "        74,  74,  74,  74,  74,  74,  74,  74,  74,  74,  74,  74,  74,\n",
       "        74,  74,  74,  74,  74,  75,  75,  75,  75,  75,  75,  75,  75,\n",
       "        75,  75,  75,  75,  75,  75,  75,  75,  75,  75,  75,  75,  75,\n",
       "        75,  75,  75,  75,  76,  76,  76,  76,  76,  76,  76,  76,  76,\n",
       "        76,  76,  76,  76,  76,  76,  76,  76,  76,  76,  76,  76,  76,\n",
       "        77,  77,  77,  77,  77,  77,  77,  77,  77,  77,  77,  77,  77,\n",
       "        77,  77,  77,  77,  77,  78,  78,  78,  78,  78,  78,  78,  78,\n",
       "        78,  78,  78,  79,  79,  79,  79,  79,  79,  79,  79,  79,  79,\n",
       "        79,  79,  79,  79,  79,  79,  79,  79,  79,  80,  80,  80,  80,\n",
       "        80,  80,  80,  80,  80,  80,  80,  80,  80,  80,  80,  80,  80,\n",
       "        80,  80,  80,  80,  80,  80,  81,  81,  81,  81,  81,  81,  81,\n",
       "        81,  81,  81,  81,  81,  81,  81,  81,  81,  81,  81,  81,  81,\n",
       "        81,  81,  81,  82,  82,  82,  82,  82,  82,  82,  82,  82,  82,\n",
       "        82,  82,  82,  82,  82,  82,  82,  82,  82,  82,  82,  82,  82,\n",
       "        82,  82,  82,  82,  83,  83,  83,  83,  83,  83,  83,  83,  83,\n",
       "        83,  83,  83,  83,  83,  83,  83,  83,  83,  83,  83,  83,  83,\n",
       "        83,  83,  83,  84,  84,  84,  84,  84,  84,  84,  84,  84,  84,\n",
       "        84,  84,  84,  84,  84,  84,  84,  84,  84,  84,  85,  85,  85,\n",
       "        85,  85,  85,  85,  85,  85,  85,  85,  85,  85,  86,  86,  86,\n",
       "        86,  86,  86,  86,  86,  86,  86,  86,  87,  87,  87,  87,  87,\n",
       "        87,  87,  87,  87,  87,  88,  88,  88,  88,  88,  88,  88,  88,\n",
       "        88,  88,  88,  88,  88,  88,  88,  89,  89,  89,  89,  89,  89,\n",
       "        89,  89,  89,  89,  89,  90,  90,  90,  90,  90,  90,  90,  90,\n",
       "        90,  90,  90,  91,  91,  91,  91,  91,  91,  91,  91,  91,  92,\n",
       "        92,  92,  92,  92,  92,  92,  92,  92,  92,  92,  93,  93,  93,\n",
       "        93,  94,  94,  94,  94,  94,  94,  95,  95,  95,  96,  96,  96,\n",
       "        96,  96,  96,  97,  97,  97,  97,  98,  98,  98,  98,  98,  99,\n",
       "        99,  99,  99, 100, 100, 100, 100, 100, 100, 100, 100, 100])"
      ]
     },
     "execution_count": 10,
     "metadata": {},
     "output_type": "execute_result"
    }
   ],
   "source": [
    "np.sort(df['math score'])"
   ]
  },
  {
   "cell_type": "code",
   "execution_count": 11,
   "id": "d168e4d0",
   "metadata": {},
   "outputs": [],
   "source": [
    "middle_index=math.floor(c_values/2)"
   ]
  },
  {
   "cell_type": "code",
   "execution_count": 12,
   "id": "ad1751a4",
   "metadata": {},
   "outputs": [],
   "source": [
    "median=np.sort(df['math score'])[middle_index]"
   ]
  },
  {
   "cell_type": "code",
   "execution_count": 13,
   "id": "916be75f",
   "metadata": {},
   "outputs": [
    {
     "name": "stdout",
     "output_type": "stream",
     "text": [
      "68\n"
     ]
    }
   ],
   "source": [
    "print(median)"
   ]
  },
  {
   "cell_type": "code",
   "execution_count": 15,
   "id": "9a85bac4",
   "metadata": {},
   "outputs": [],
   "source": [
    "max_value=np.sort(df['math score'])[-1]"
   ]
  },
  {
   "cell_type": "code",
   "execution_count": 16,
   "id": "6dd3a0ef",
   "metadata": {},
   "outputs": [
    {
     "name": "stdout",
     "output_type": "stream",
     "text": [
      "100\n"
     ]
    }
   ],
   "source": [
    "print(max_value)"
   ]
  },
  {
   "cell_type": "code",
   "execution_count": 18,
   "id": "a3b1fd69",
   "metadata": {},
   "outputs": [
    {
     "name": "stdout",
     "output_type": "stream",
     "text": [
      "15\n"
     ]
    }
   ],
   "source": [
    "min_value=np.sort(df['math score'])[0]\n",
    "print(min_value)"
   ]
  },
  {
   "cell_type": "code",
   "execution_count": 19,
   "id": "a944762d",
   "metadata": {},
   "outputs": [],
   "source": [
    "def max_value(variable):\n",
    "    return np.sort(df[variable])[-1]"
   ]
  },
  {
   "cell_type": "code",
   "execution_count": 20,
   "id": "e53031b1",
   "metadata": {},
   "outputs": [
    {
     "data": {
      "text/plain": [
       "100"
      ]
     },
     "execution_count": 20,
     "metadata": {},
     "output_type": "execute_result"
    }
   ],
   "source": [
    "max_value('math score')"
   ]
  },
  {
   "cell_type": "code",
   "execution_count": 21,
   "id": "c19ddff3",
   "metadata": {},
   "outputs": [],
   "source": [
    "#median"
   ]
  },
  {
   "cell_type": "code",
   "execution_count": 22,
   "id": "0be478f1",
   "metadata": {},
   "outputs": [
    {
     "data": {
      "text/plain": [
       "68"
      ]
     },
     "execution_count": 22,
     "metadata": {},
     "output_type": "execute_result"
    }
   ],
   "source": [
    "def median_value(variable):\n",
    "    middle_index=math.floor(c_values/2)\n",
    "    return np.sort(df[variable])[middle_index]\n",
    "median_value('math score')"
   ]
  },
  {
   "cell_type": "code",
   "execution_count": 23,
   "id": "46853174",
   "metadata": {},
   "outputs": [
    {
     "data": {
      "text/plain": [
       "15.250195686235259"
      ]
     },
     "execution_count": 23,
     "metadata": {},
     "output_type": "execute_result"
    }
   ],
   "source": [
    "df['math score'].std()"
   ]
  },
  {
   "cell_type": "code",
   "execution_count": 24,
   "id": "c0638913",
   "metadata": {},
   "outputs": [],
   "source": [
    "#standard deviation"
   ]
  },
  {
   "cell_type": "code",
   "execution_count": 25,
   "id": "9815cb0d",
   "metadata": {},
   "outputs": [],
   "source": [
    "def std_dev(variable):\n",
    "    lst=[]\n",
    "    for i in range(c_values):\n",
    "        sigma=(df[variable][i]-mean)**2\n",
    "        lst.append(sigma)\n",
    "    return np.sqrt(sum(lst)/c_values)"
   ]
  },
  {
   "cell_type": "code",
   "execution_count": 26,
   "id": "c6d49ec6",
   "metadata": {},
   "outputs": [
    {
     "data": {
      "text/plain": [
       "15.24256868116395"
      ]
     },
     "execution_count": 26,
     "metadata": {},
     "output_type": "execute_result"
    }
   ],
   "source": [
    "std_dev('math score')"
   ]
  },
  {
   "cell_type": "code",
   "execution_count": 27,
   "id": "8ba091fb",
   "metadata": {},
   "outputs": [
    {
     "data": {
      "text/plain": [
       "14.333012942155584"
      ]
     },
     "execution_count": 27,
     "metadata": {},
     "output_type": "execute_result"
    }
   ],
   "source": [
    "std_dev('reading score')"
   ]
  },
  {
   "cell_type": "code",
   "execution_count": 28,
   "id": "932fec72",
   "metadata": {},
   "outputs": [
    {
     "data": {
      "text/html": [
       "<div>\n",
       "<style scoped>\n",
       "    .dataframe tbody tr th:only-of-type {\n",
       "        vertical-align: middle;\n",
       "    }\n",
       "\n",
       "    .dataframe tbody tr th {\n",
       "        vertical-align: top;\n",
       "    }\n",
       "\n",
       "    .dataframe thead th {\n",
       "        text-align: right;\n",
       "    }\n",
       "</style>\n",
       "<table border=\"1\" class=\"dataframe\">\n",
       "  <thead>\n",
       "    <tr style=\"text-align: right;\">\n",
       "      <th></th>\n",
       "      <th>math score</th>\n",
       "      <th>reading score</th>\n",
       "      <th>writing score</th>\n",
       "    </tr>\n",
       "  </thead>\n",
       "  <tbody>\n",
       "    <tr>\n",
       "      <th>count</th>\n",
       "      <td>1000.000000</td>\n",
       "      <td>1000.000000</td>\n",
       "      <td>1000.000000</td>\n",
       "    </tr>\n",
       "    <tr>\n",
       "      <th>mean</th>\n",
       "      <td>67.810000</td>\n",
       "      <td>70.382000</td>\n",
       "      <td>69.140000</td>\n",
       "    </tr>\n",
       "    <tr>\n",
       "      <th>std</th>\n",
       "      <td>15.250196</td>\n",
       "      <td>14.107413</td>\n",
       "      <td>15.025917</td>\n",
       "    </tr>\n",
       "    <tr>\n",
       "      <th>min</th>\n",
       "      <td>15.000000</td>\n",
       "      <td>25.000000</td>\n",
       "      <td>15.000000</td>\n",
       "    </tr>\n",
       "    <tr>\n",
       "      <th>25%</th>\n",
       "      <td>58.000000</td>\n",
       "      <td>61.000000</td>\n",
       "      <td>59.000000</td>\n",
       "    </tr>\n",
       "    <tr>\n",
       "      <th>50%</th>\n",
       "      <td>68.000000</td>\n",
       "      <td>70.500000</td>\n",
       "      <td>70.000000</td>\n",
       "    </tr>\n",
       "    <tr>\n",
       "      <th>75%</th>\n",
       "      <td>79.250000</td>\n",
       "      <td>80.000000</td>\n",
       "      <td>80.000000</td>\n",
       "    </tr>\n",
       "    <tr>\n",
       "      <th>max</th>\n",
       "      <td>100.000000</td>\n",
       "      <td>100.000000</td>\n",
       "      <td>100.000000</td>\n",
       "    </tr>\n",
       "  </tbody>\n",
       "</table>\n",
       "</div>"
      ],
      "text/plain": [
       "        math score  reading score  writing score\n",
       "count  1000.000000    1000.000000    1000.000000\n",
       "mean     67.810000      70.382000      69.140000\n",
       "std      15.250196      14.107413      15.025917\n",
       "min      15.000000      25.000000      15.000000\n",
       "25%      58.000000      61.000000      59.000000\n",
       "50%      68.000000      70.500000      70.000000\n",
       "75%      79.250000      80.000000      80.000000\n",
       "max     100.000000     100.000000     100.000000"
      ]
     },
     "execution_count": 28,
     "metadata": {},
     "output_type": "execute_result"
    }
   ],
   "source": [
    "df.describe()"
   ]
  },
  {
   "cell_type": "code",
   "execution_count": 29,
   "id": "4ddc0717",
   "metadata": {},
   "outputs": [],
   "source": [
    "def variance(data,ddof=0):\n",
    "    n = len(data)\n",
    "    mean = sum(data) / n\n",
    "    return sum((x - mean) ** 2 for x in data) / (n - ddof)\n",
    "\n",
    "def stdev(data):\n",
    "    var = variance(data)\n",
    "    std_dev = math.sqrt(var)\n",
    "    return std_dev\n"
   ]
  },
  {
   "cell_type": "code",
   "execution_count": 30,
   "id": "22cb17d3",
   "metadata": {},
   "outputs": [
    {
     "data": {
      "text/plain": [
       "232.33590000000012"
      ]
     },
     "execution_count": 30,
     "metadata": {},
     "output_type": "execute_result"
    }
   ],
   "source": [
    "variance(df['math score'])"
   ]
  },
  {
   "cell_type": "code",
   "execution_count": 31,
   "id": "1bebec08",
   "metadata": {},
   "outputs": [
    {
     "data": {
      "text/plain": [
       "15.24256868116395"
      ]
     },
     "execution_count": 31,
     "metadata": {},
     "output_type": "execute_result"
    }
   ],
   "source": [
    "stdev(df['math score'])\n",
    "\n"
   ]
  },
  {
   "cell_type": "code",
   "execution_count": null,
   "id": "774a2855",
   "metadata": {},
   "outputs": [],
   "source": []
  }
 ],
 "metadata": {
  "kernelspec": {
   "display_name": "Python 3 (ipykernel)",
   "language": "python",
   "name": "python3"
  },
  "language_info": {
   "codemirror_mode": {
    "name": "ipython",
    "version": 3
   },
   "file_extension": ".py",
   "mimetype": "text/x-python",
   "name": "python",
   "nbconvert_exporter": "python",
   "pygments_lexer": "ipython3",
   "version": "3.10.6"
  }
 },
 "nbformat": 4,
 "nbformat_minor": 5
}
